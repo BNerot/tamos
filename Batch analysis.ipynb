{
 "cells": [
  {
   "cell_type": "markdown",
   "id": "thick-modern",
   "metadata": {},
   "source": [
    "# Instructions:\n",
    "This notebook makes the analysis of large volumes of results easier. It simply displays in a human-friendly way the values of decision variables (first part) or KPIs (second parts). Here is a quick starter guide:\n",
    "1. Set the path to your ResultsBatch instance in the `Results loading` cell\n",
    "2. Either:\n",
    "    - run all cells (menu > cells > run all)\n",
    "    - run at least `Imports`, `Results loading` and `Tools`. Then run the cells you are interested in.\n",
    "3. Interact with the cell output. Figures will Update automatically if the `Update` field is on `True`.\n",
    "   You can select multiple choices for values that are not related to energy systems description, i.e. Hub, Production, Storage, etc...\n",
    "   \n",
    "notes: \n",
    "- each cell is independant from the other.\n",
    "- not all KPIs are shown, but the main are"
   ]
  },
  {
   "cell_type": "markdown",
   "id": "6f14d568",
   "metadata": {},
   "source": [
    "# <font color=blue> Imports [run me]</font>"
   ]
  },
  {
   "cell_type": "code",
   "execution_count": null,
   "id": "c4baa6e5",
   "metadata": {},
   "outputs": [],
   "source": [
    "import os\n",
    "from sys import path\n",
    "from pathlib import Path\n",
    "           \n",
    "from tamos.data_IO import ResultsBatch\n",
    "\n",
    "import pandas as pd\n",
    "from numpy import nan, inf, stack\n",
    "from numpy import min as min_\n",
    "from functools import reduce\n",
    "\n",
    "from ipywidgets import interact, interactive, fixed, interact_manual, interactive_output\n",
    "import ipywidgets as widgets\n",
    "\n",
    "import plotly \n",
    "import plotly.express as px\n",
    "import plotly.graph_objects as go\n",
    "import plotly.io as pio\n",
    "pio.renderers.default = \"notebook\"\n",
    "import tqdm as tqdm\n",
    "\n",
    "idx = pd.IndexSlice"
   ]
  },
  {
   "cell_type": "markdown",
   "id": "3deeedd4",
   "metadata": {},
   "source": [
    "# <font color=blue> Results loading [run me] </font> "
   ]
  },
  {
   "cell_type": "code",
   "execution_count": null,
   "id": "1eeb6ccb",
   "metadata": {},
   "outputs": [],
   "source": [
    "# The following snippet load a ResultsBatch instance that was written on disk using ResultsBatch.dump_object().\n",
    "RB = ResultsBatch.load_object(\"\")\n",
    "vars_, KPIs, results = RB.vars_, RB.KPIs, RB.results"
   ]
  },
  {
   "cell_type": "markdown",
   "id": "1f0afd99",
   "metadata": {},
   "source": [
    "# <font color=blue> Tools [run me]</font>"
   ]
  },
  {
   "cell_type": "code",
   "execution_count": null,
   "id": "8d42d56d",
   "metadata": {},
   "outputs": [],
   "source": [
    "to_list = lambda x: x if isinstance(x, (tuple, list)) else [x]\n",
    "remove_unique_choice = True\n",
    "\n",
    "def subset_df(df, subset_mapper, recursive=True):\n",
    "    if recursive:\n",
    "        if subset_mapper:\n",
    "            col, values = subset_mapper.popitem()\n",
    "            df_ = df[df[col].isin(to_list(values))]\n",
    "            return subset_df(df_, subset_mapper, True)\n",
    "        else:\n",
    "            return df    \n",
    "    else:\n",
    "        cond = reduce(lambda x, y: x & y, [df[col].isin(to_list(values)) \n",
    "                                           for col, values in subset_mapper.items()])\n",
    "        return df[cond]\n",
    "\n",
    "def get_widgets(regulars, df_regulars, time_series=False):\n",
    "    \"\"\"\n",
    "    Regulars: non-descriptors columns for which widgets are created\n",
    "    \"\"\"\n",
    "    helper_widgets = {\"Update\": widgets.Select(options=[True, False], \n",
    "                                               value=False, \n",
    "                                               description=\"Update\", \n",
    "                                               disabled=False, rows=2)}\n",
    "    if time_series:\n",
    "        helper_widgets[\"Mode\"] = widgets.Select(options=['Time series', 'Duration', 'Describe'],\n",
    "                                                   description='Mode',\n",
    "                                                   disabled=False,\n",
    "                                                rows=3\n",
    "                                                   )\n",
    "\n",
    "    descriptors_widgets = {k: widgets.Select(options=sorted(v, key=repr), \n",
    "                                               description=k, \n",
    "                                               disabled=False,\n",
    "                                               rows=min(len(v), 8))\n",
    "                           for k, v in RB.relevant_descriptors.items()}\n",
    "    regular_widgets = {}\n",
    "    for col in regulars:\n",
    "        options = sorted(df_regulars[col].unique())\n",
    "        regular_widgets[col] = widgets.SelectMultiple(options=options, \n",
    "                                                   description=col, \n",
    "                                                   disabled=False,\n",
    "                                                  rows=min(len(options), 8))\n",
    "    \n",
    "    all_widgets = {**helper_widgets, **descriptors_widgets, **regular_widgets}\n",
    "    if remove_unique_choice:\n",
    "        all_widgets = {k: v for k, v in all_widgets.items() if len(v.options)>1}\n",
    "    \n",
    "    return all_widgets"
   ]
  },
  {
   "cell_type": "markdown",
   "id": "dfe48c49",
   "metadata": {},
   "source": [
    "# <font color=blue> Figures </font>"
   ]
  },
  {
   "cell_type": "markdown",
   "id": "fab1b3f8",
   "metadata": {},
   "source": [
    "## <font color=red > Variables </font> "
   ]
  },
  {
   "cell_type": "markdown",
   "id": "71e55bcf",
   "metadata": {},
   "source": [
    "### note: List of relevant columns per variable"
   ]
  },
  {
   "cell_type": "code",
   "execution_count": null,
   "id": "8437d361",
   "metadata": {},
   "outputs": [],
   "source": [
    "pd.Series({var_name: list(var.columns.difference(RB.relevant_descriptors)) for var_name, var in vars_.items()}).sort_index()"
   ]
  },
  {
   "cell_type": "markdown",
   "id": "785acd90",
   "metadata": {},
   "source": [
    "### SP_P [Production]"
   ]
  },
  {
   "cell_type": "code",
   "execution_count": null,
   "id": "a545e38f",
   "metadata": {
    "scrolled": false
   },
   "outputs": [],
   "source": [
    "widgets_ = get_widgets([\"Hub\", \"Production\"], vars_[\"SP_P\"]) \n",
    "def f(**widgets__):    \n",
    "    if widgets__.pop(\"Update\"):        \n",
    "        df_ = subset_df(vars_[\"SP_P\"], widgets__)\n",
    "        fig = px.bar(df_, y=\"Production\", x=\"SP_P\", color=\"Hub\", barmode='group', labels={\"SP_P\": \"Capacity (kW)\"})\n",
    "        fig.show()\n",
    "ui = widgets.Box(children=list(widgets_.values()))\n",
    "out = interactive_output(f, dict(widgets_)) # copy\n",
    "display(ui, out)"
   ]
  },
  {
   "cell_type": "markdown",
   "id": "732e1fca",
   "metadata": {},
   "source": [
    "### Q_P [Production]"
   ]
  },
  {
   "cell_type": "code",
   "execution_count": null,
   "id": "3b8f1acf",
   "metadata": {},
   "outputs": [],
   "source": [
    "\n",
    "widgets_ = get_widgets([\"Hub\", \"Production\"], vars_[\"Q_P\"], time_series=True) \n",
    "\n",
    "def f(**widgets__):    \n",
    "    if widgets__.pop(\"Update\"):      \n",
    "        mode = widgets__.pop(\"Mode\")\n",
    "        df_ = subset_df(vars_[\"Q_P\"], widgets__)\n",
    "        labels ={\"Q_P\": \"Main production (kW)\"}\n",
    "        if mode == \"Time series\":\n",
    "            fig = px.line(df_, x=\"Date\", y=\"Q_P\", facet_row=\"Production\", color=\"Hub\", labels=labels)\n",
    "        elif mode == \"Duration\":\n",
    "            fig = px.ecdf(df_, y=\"Q_P\", facet_row=\"Production\", color=\"Hub\", labels=labels,\n",
    "                         ecdfmode=\"complementary\",\n",
    "                         ecdfnorm=None)\n",
    "        else:\n",
    "            df__ = df_.groupby([\"Production\", \"Hub\"])[\"Q_P\"].describe()\n",
    "            df__ = df__.melt(ignore_index=False).reset_index()\n",
    "            fig = px.bar(df__, x=\"variable\", y=\"value\",\n",
    "                         facet_row=\"Production\", color=\"Hub\", barmode=\"group\") \n",
    "        fig.for_each_annotation(lambda a: a.update(text=a.text.split(\"=\")[-1]))\n",
    "        fig.show()\n",
    "    \n",
    "           \n",
    "ui = widgets.Box(children=list(widgets_.values()))\n",
    "out = interactive_output(f, dict(widgets_))\n",
    "display(ui, out)"
   ]
  },
  {
   "cell_type": "markdown",
   "id": "9b2ab189",
   "metadata": {},
   "source": [
    "### F_P [Production]"
   ]
  },
  {
   "cell_type": "code",
   "execution_count": null,
   "id": "9aa8e16f",
   "metadata": {
    "scrolled": false
   },
   "outputs": [],
   "source": [
    "widgets_ = get_widgets([\"Hub\", \"Production\", \"Element\"], vars_[\"F_P\"], True) \n",
    "\n",
    "def f(**widgets__):    \n",
    "    if widgets__.pop(\"Update\"):        \n",
    "        mode = widgets__.pop(\"Mode\")\n",
    "        df_ = subset_df(vars_[\"F_P\"], widgets__)\n",
    "        labels ={\"F_P\": \"Incoming power (kW)\"}\n",
    "        if mode == \"Time series\":\n",
    "            fig = px.line(df_, x=\"Date\", y=\"F_P\", facet_row=\"Production\", facet_col=\"Hub\", color=\"Element\", labels=labels)\n",
    "        elif mode == \"Duration\":\n",
    "            fig = px.ecdf(df_, y=\"F_P\", facet_row=\"Production\", facet_col=\"Hub\", color=\"Element\", labels=labels,\n",
    "                         ecdfmode=\"complementary\",\n",
    "                         ecdfnorm=None)\n",
    "        else:            \n",
    "            df__ = df_.groupby([\"Production\", \"Hub\", \"Element\"])[\"F_P\"].describe()\n",
    "            df__ = df__.melt(ignore_index=False).reset_index()\n",
    "            fig = px.bar(df__, x=\"variable\", y=\"value\",\n",
    "                         facet_row=\"Production\", facet_col=\"Hub\", color=\"Element\", barmode=\"group\") \n",
    "      \n",
    "        fig.for_each_annotation(lambda a: a.update(text=a.text.split(\"=\")[-1]))\n",
    "        fig.show()\n",
    "\n",
    "ui = widgets.Box(children=list(widgets_.values()))\n",
    "out = interactive_output(f, dict(widgets_))\n",
    "display(ui, out)"
   ]
  },
  {
   "cell_type": "markdown",
   "id": "505f72f1",
   "metadata": {},
   "source": [
    "### SE_S [Storage]"
   ]
  },
  {
   "cell_type": "code",
   "execution_count": null,
   "id": "7b325102",
   "metadata": {},
   "outputs": [],
   "source": [
    "widgets_ = get_widgets([\"Hub\"], vars_[\"SE_S\"])\n",
    "def f(**widgets__):\n",
    "    if widgets__.pop(\"Update\"):        \n",
    "        df_ = subset_df(vars_[\"SE_S\"], widgets__).dropna()\n",
    "        fig = px.bar(df_, y=\"Storage\", x=\"SE_S\", color=\"Hub\", barmode='group', labels={\"SE_S\": \"Capacity (kg or kWh)\"})\n",
    "        fig.show()\n",
    "    \n",
    "           \n",
    "ui = widgets.Box(children=list(widgets_.values()))\n",
    "out = interactive_output(f, dict(widgets_))\n",
    "display(ui, out)"
   ]
  },
  {
   "cell_type": "markdown",
   "id": "6d8ea574",
   "metadata": {},
   "source": [
    "### E_S [Storage]"
   ]
  },
  {
   "cell_type": "code",
   "execution_count": null,
   "id": "0d993cf8",
   "metadata": {},
   "outputs": [],
   "source": [
    "widgets_ = get_widgets([\"Hub\", \"Storage\"], vars_[\"E_S\"], True)\n",
    "def f(**widgets__):\n",
    "    if widgets__.pop(\"Update\"):        \n",
    "        mode = widgets__.pop(\"Mode\")\n",
    "        df_ = subset_df(vars_[\"E_S\"], widgets__)\n",
    "        labels={\"E_S\": \"Stage of charge (kg or kWh)\"}\n",
    "        if mode == \"Time series\":\n",
    "            fig = px.line(df_, x=\"Date\", y=\"E_S\", facet_row=\"Storage\", color=\"Hub\", labels=labels)\n",
    "        elif mode == \"Duration\":\n",
    "            fig = px.ecdf(df_, y=\"E_S\", facet_row=\"Storage\", color=\"Hub\", labels=labels,\n",
    "                         ecdfmode=\"complementary\",\n",
    "                         ecdfnorm=None)\n",
    "        else:\n",
    "            df__ = df_.groupby([\"Storage\", \"Hub\"])[\"E_S\"].describe()\n",
    "            df__ = df__.melt(ignore_index=False).reset_index()\n",
    "            fig = px.bar(df__, x=\"variable\", y=\"value\",\n",
    "                         facet_row=\"Storage\", color=\"Hub\", barmode=\"group\") \n",
    "        fig.for_each_annotation(lambda a: a.update(text=a.text.split(\"=\")[-1]))\n",
    "        fig.show()\n",
    "    \n",
    "           \n",
    "ui = widgets.Box(children=list(widgets_.values()))\n",
    "out = interactive_output(f, dict(widgets_))\n",
    "display(ui, out)"
   ]
  },
  {
   "cell_type": "markdown",
   "id": "47f1f05f",
   "metadata": {},
   "source": [
    "### F_S [Storage]"
   ]
  },
  {
   "cell_type": "code",
   "execution_count": null,
   "id": "075c124d",
   "metadata": {
    "scrolled": false
   },
   "outputs": [],
   "source": [
    "widgets_ = get_widgets([\"Hub\", \"Storage\"], vars_[\"F_S\"], True)\n",
    "def f(**widgets__):\n",
    "    if widgets__.pop(\"Update\"):        \n",
    "        mode = widgets__.pop(\"Mode\")\n",
    "        df_ = subset_df(vars_[\"F_S\"], widgets__)\n",
    "        labels={\"F_S\": \"Incoming power (kW)\"}\n",
    "        if mode == \"Time series\":\n",
    "            fig = px.line(df_, x=\"Date\", y=\"F_S\", facet_row=\"Storage\", facet_col=\"Hub\", color=\"Element\", labels=labels)\n",
    "        elif mode == \"Duration\":\n",
    "            fig = px.ecdf(df_, y=\"F_S\", facet_row=\"Storage\", facet_col=\"Hub\", color=\"Element\", labels=labels,\n",
    "                          ecdfmode=\"complementary\",\n",
    "                          ecdfnorm=None)\n",
    "        else:\n",
    "            df__ = df_.groupby([\"Storage\", \"Hub\"])[\"F_S\"].describe()\n",
    "            df__ = df__.melt(ignore_index=False).reset_index()\n",
    "            fig = px.bar(df__, x=\"variable\", y=\"value\", facet_row=\"Storage\", facet_col=\"Hub\", color=\"Element\", \n",
    "                         barmode=\"group\") \n",
    "        fig.for_each_annotation(lambda a: a.update(text=a.text.split(\"=\")[-1]))\n",
    "        fig.show()\n",
    "    \n",
    "           \n",
    "ui = widgets.Box(children=list(widgets_.values()))\n",
    "out = interactive_output(f, dict(widgets_))\n",
    "display(ui, out)"
   ]
  },
  {
   "cell_type": "markdown",
   "id": "0a7ff38d",
   "metadata": {},
   "source": [
    "### F_EXT [ElementIO]"
   ]
  },
  {
   "cell_type": "code",
   "execution_count": null,
   "id": "6f93618a",
   "metadata": {},
   "outputs": [],
   "source": [
    "widgets_ = get_widgets([\"Hub\", \"ElementIO\"], vars_[\"F_EXT\"], True)\n",
    "def f(**widgets__):\n",
    "    if widgets__.pop(\"Update\"):  \n",
    "        mode = widgets__.pop(\"Mode\")\n",
    "        df_ = subset_df(vars_[\"F_EXT\"], widgets__)\n",
    "        labels={\"F_EXT\": \"Incoming power (kW)\"}\n",
    "        if mode == \"Time series\":\n",
    "            fig = px.line(df_, x=\"Date\", y=\"F_EXT\", facet_row=\"ElementIO\", color=\"Hub\", labels=labels)\n",
    "        elif mode == \"Duration\":\n",
    "            fig = px.ecdf(df_, y=\"F_EXT\", facet_row=\"ElementIO\", color=\"Hub\", labels=labels,\n",
    "                         ecdfmode=\"complementary\",\n",
    "                         ecdfnorm=None)\n",
    "        else:\n",
    "            df__ = df_.groupby([\"ElementIO\", \"Hub\"])[\"F_EXT\"].describe()\n",
    "            df__ = df__.melt(ignore_index=False).reset_index()\n",
    "            fig = px.bar(df__, x=\"variable\", y=\"value\",\n",
    "                         facet_row=\"ElementIO\", color=\"Hub\", barmode=\"group\") \n",
    "        fig.for_each_annotation(lambda a: a.update(text=a.text.split(\"=\")[-1]))\n",
    "        fig.show()\n",
    "    \n",
    "           \n",
    "ui = widgets.Box(children=list(widgets_.values()))\n",
    "out = interactive_output(f, dict(widgets_))\n",
    "display(ui, out)"
   ]
  },
  {
   "cell_type": "markdown",
   "id": "2c5dd33a",
   "metadata": {},
   "source": [
    "### F_SYS [Network]"
   ]
  },
  {
   "cell_type": "code",
   "execution_count": null,
   "id": "039a6226",
   "metadata": {
    "scrolled": false
   },
   "outputs": [],
   "source": [
    "widgets_ = get_widgets([\"Hub\", \"Network\"], vars_[\"F_SYS\"], True)\n",
    "def f(**widgets__):\n",
    "    if widgets__.pop(\"Update\"):                \n",
    "        mode = widgets__.pop(\"Mode\")\n",
    "        df_ = subset_df(vars_[\"F_SYS\"], widgets__)\n",
    "        labels={\"F_SYS\": \"Incoming power (kW)\"}\n",
    "        if mode == \"Time series\":\n",
    "            fig = px.line(df_, x=\"Date\", y=\"F_SYS\", facet_row=\"Network\", color=\"Hub\", labels=labels)\n",
    "        elif mode == \"Duration\":\n",
    "            fig = px.ecdf(df_, y=\"F_SYS\", facet_row=\"Network\", color=\"Hub\", labels=labels,\n",
    "                         ecdfmode=\"complementary\",\n",
    "                         ecdfnorm=None)\n",
    "        else:            \n",
    "            df__ = df_.groupby([\"Network\", \"Hub\"])[\"F_SYS\"].describe()\n",
    "            df__ = df__.melt(ignore_index=False).reset_index()\n",
    "            fig = px.bar(df__, x=\"variable\", y=\"value\",\n",
    "                         facet_row=\"Network\", color=\"Hub\", barmode=\"group\")\n",
    "        fig.for_each_annotation(lambda a: a.update(text=a.text.split(\"=\")[-1]))\n",
    "        fig.show()\n",
    "    \n",
    "           \n",
    "ui = widgets.Box(children=list(widgets_.values()))\n",
    "out = interactive_output(f, dict(widgets_))\n",
    "display(ui, out)"
   ]
  },
  {
   "cell_type": "markdown",
   "id": "9990bda5",
   "metadata": {},
   "source": [
    "### F_N [Network]"
   ]
  },
  {
   "cell_type": "code",
   "execution_count": null,
   "id": "e632cc75",
   "metadata": {
    "scrolled": false
   },
   "outputs": [],
   "source": [
    "widgets_ = get_widgets([\"Hub\", \"Hub_bis\", \"Network\"], vars_[\"F_N\"], True)\n",
    "def f(**widgets__):\n",
    "    if widgets__.pop(\"Update\"):                \n",
    "        mode = widgets__.pop(\"Mode\")\n",
    "        df_ = subset_df(vars_[\"F_N\"], widgets__)\n",
    "        labels = {\"F_N\": \"Power from Hub to Hub_bis (kW)\"}\n",
    "        if mode == \"Time series\":\n",
    "            fig = px.line(df_, x=\"Date\", y=\"F_N\", facet_row=\"Hub\", facet_col=\"Hub_bis\", color=\"Network\", labels=labels)\n",
    "        elif mode == \"Duration\":\n",
    "            fig = px.ecdf(df_, y=\"F_N\", facet_row=\"Hub\", facet_col=\"Hub_bis\", color=\"Network\", labels=labels,\n",
    "                         ecdfmode=\"complementary\",\n",
    "                         ecdfnorm=None)\n",
    "        else:\n",
    "            \n",
    "            df__ = df_.groupby([\"Network\", \"Hub\", \"Hub_bis\"])[\"F_N\"].describe()\n",
    "            df__ = df__.melt(ignore_index=False).reset_index()\n",
    "            fig = px.bar(df__, x=\"variable\", y=\"value\",\n",
    "                          facet_row=\"Hub\", facet_col=\"Hub_bis\", color=\"Network\", barmode=\"group\") \n",
    "        fig.for_each_annotation(lambda a: a.update(text=a.text.split(\"=\")[-1]))\n",
    "        fig.show()\n",
    "    \n",
    "           \n",
    "ui = widgets.Box(children=list(widgets_.values()))\n",
    "out = interactive_output(f, dict(widgets_))\n",
    "display(ui, out)"
   ]
  },
  {
   "cell_type": "markdown",
   "id": "f43cf1aa",
   "metadata": {},
   "source": [
    "### X_N [Network]"
   ]
  },
  {
   "cell_type": "code",
   "execution_count": null,
   "id": "26d2c994",
   "metadata": {},
   "outputs": [],
   "source": [
    "widgets_ = get_widgets([\"Network\"], vars_[\"X_N\"], False)\n",
    "def f(**widgets__):\n",
    "    if widgets__.pop(\"Update\"):             \n",
    "        df_ = subset_df(vars_[\"X_N\"], widgets__)\n",
    "        labels = {\"F_N\": \"Power from Hub to Hub_bis (kW)\"}\n",
    "        df_ = df_.pivot_table(index=\"Hub\", columns=\"Hub_bis\", values=\"X_N\")\n",
    "        df_ = df_.where(df_==1, nan)\n",
    "        df_ = df_.dropna(axis=1, how=\"all\").dropna(axis=0, how=\"all\").fillna(\"\")\n",
    "        df_ = df_.replace({1: \"X\"})\n",
    "        display(df_)\n",
    "    \n",
    "           \n",
    "ui = widgets.Box(children=list(widgets_.values()))\n",
    "out = interactive_output(f, dict(widgets_))\n",
    "display(ui, out)"
   ]
  },
  {
   "cell_type": "markdown",
   "id": "5fb6b806",
   "metadata": {},
   "source": [
    "## <font color=red> KPIs </font>"
   ]
  },
  {
   "cell_type": "markdown",
   "id": "3f8c0696",
   "metadata": {},
   "source": [
    "### note: List of relevant columns per KPI"
   ]
  },
  {
   "cell_type": "code",
   "execution_count": null,
   "id": "7da49973",
   "metadata": {},
   "outputs": [],
   "source": [
    "pd.Series({KPI_name: list(KPI.columns.difference(RB.relevant_descriptors)) for KPI_name, KPI in KPIs.items()}).sort_index()"
   ]
  },
  {
   "cell_type": "markdown",
   "id": "bd9448e7",
   "metadata": {},
   "source": [
    "### COST_production"
   ]
  },
  {
   "cell_type": "code",
   "execution_count": null,
   "id": "47bc84ec",
   "metadata": {},
   "outputs": [],
   "source": [
    "widgets_ = get_widgets([\"Hub\"], KPIs[\"COST_production\"]) \n",
    "def f(**widgets__):    \n",
    "    if widgets__.pop(\"Update\"):        \n",
    "        df_ = subset_df(KPIs[\"COST_production\"], widgets__)\n",
    "        fig = px.bar(df_, y=\"Production\", x=\"COST_production\", color=\"Hub\", barmode='group')\n",
    "        fig.show()\n",
    "ui = widgets.Box(children=list(widgets_.values()))\n",
    "out = interactive_output(f, dict(widgets_)) # copy\n",
    "display(ui, out)"
   ]
  },
  {
   "cell_type": "markdown",
   "id": "0b34a926",
   "metadata": {},
   "source": [
    "### COST_element"
   ]
  },
  {
   "cell_type": "code",
   "execution_count": null,
   "id": "a1498b22",
   "metadata": {},
   "outputs": [],
   "source": [
    "widgets_ = get_widgets([\"Hub\"], KPIs[\"COST_element\"]) \n",
    "def f(**widgets__):    \n",
    "    if widgets__.pop(\"Update\"):        \n",
    "        df_ = subset_df(KPIs[\"COST_element\"], widgets__)\n",
    "        fig = px.bar(df_, y=\"ElementIO\", x=\"COST_element\", color=\"Hub\", barmode='group')\n",
    "        fig.show()\n",
    "ui = widgets.Box(children=list(widgets_.values()))\n",
    "out = interactive_output(f, dict(widgets_)) # copy\n",
    "display(ui, out)"
   ]
  },
  {
   "cell_type": "markdown",
   "id": "fc05fffd",
   "metadata": {},
   "source": [
    "### COST_network"
   ]
  },
  {
   "cell_type": "code",
   "execution_count": null,
   "id": "1a249f2c",
   "metadata": {},
   "outputs": [],
   "source": [
    "widgets_ = get_widgets([], KPIs[\"COST_network\"]) \n",
    "def f(**widgets__):    \n",
    "    if widgets__.pop(\"Update\"):        \n",
    "        df_ = subset_df(KPIs[\"COST_network\"], widgets__)\n",
    "        fig = px.bar(df_, y=\"Network\", x=\"COST_network\", barmode='group')\n",
    "        fig.show()\n",
    "ui = widgets.Box(children=list(widgets_.values()))\n",
    "out = interactive_output(f, dict(widgets_)) # copy\n",
    "display(ui, out)"
   ]
  },
  {
   "cell_type": "markdown",
   "id": "13df62d4",
   "metadata": {},
   "source": [
    "### COST_storage"
   ]
  },
  {
   "cell_type": "code",
   "execution_count": null,
   "id": "7ff0acaf",
   "metadata": {},
   "outputs": [],
   "source": [
    "widgets_ = get_widgets([\"Hub\"], KPIs[\"COST_storage\"]) \n",
    "def f(**widgets__):    \n",
    "    if widgets__.pop(\"Update\"):        \n",
    "        df_ = subset_df(KPIs[\"COST_storage\"], widgets__)\n",
    "        fig = px.bar(df_, y=\"Storage\", x=\"COST_storage\", color=\"Hub\", barmode='group')\n",
    "        fig.show()\n",
    "ui = widgets.Box(children=list(widgets_.values()))\n",
    "out = interactive_output(f, dict(widgets_)) # copy\n",
    "display(ui, out)"
   ]
  },
  {
   "cell_type": "markdown",
   "id": "9ba86f53",
   "metadata": {},
   "source": [
    "### ElementIO CO2"
   ]
  },
  {
   "cell_type": "code",
   "execution_count": null,
   "id": "96b86c6a",
   "metadata": {},
   "outputs": [],
   "source": [
    "widgets_ = get_widgets([\"Hub\"], KPIs[\"ElementIO CO2\"]) \n",
    "def f(**widgets__):    \n",
    "    if widgets__.pop(\"Update\"):        \n",
    "        df_ = subset_df(KPIs[\"ElementIO CO2\"], widgets__)\n",
    "        fig = px.bar(df_, y=\"ElementIO\", x=\"ElementIO CO2\", color=\"Hub\", barmode='group')\n",
    "        fig.show()\n",
    "ui = widgets.Box(children=list(widgets_.values()))\n",
    "out = interactive_output(f, dict(widgets_)) # copy\n",
    "display(ui, out)"
   ]
  },
  {
   "cell_type": "markdown",
   "id": "076a12f0",
   "metadata": {},
   "source": [
    "### ElementIO exergy"
   ]
  },
  {
   "cell_type": "code",
   "execution_count": null,
   "id": "00fd9956",
   "metadata": {
    "scrolled": false
   },
   "outputs": [],
   "source": [
    "widgets_ = get_widgets([\"Hub\"], KPIs[\"ElementIO Exergy\"]) \n",
    "def f(**widgets__):    \n",
    "    if widgets__.pop(\"Update\"):        \n",
    "        df_ = subset_df(KPIs[\"ElementIO Exergy\"], widgets__)\n",
    "        fig = px.bar(df_, y=\"ElementIO\", x=\"ElementIO Exergy\", color=\"Hub\", barmode='group')\n",
    "        fig.show()\n",
    "ui = widgets.Box(children=list(widgets_.values()))\n",
    "out = interactive_output(f, dict(widgets_)) # copy\n",
    "display(ui, out)"
   ]
  }
 ],
 "metadata": {
  "kernelspec": {
   "display_name": "Python 3 (ipykernel)",
   "language": "python",
   "name": "python3"
  },
  "language_info": {
   "codemirror_mode": {
    "name": "ipython",
    "version": 3
   },
   "file_extension": ".py",
   "mimetype": "text/x-python",
   "name": "python",
   "nbconvert_exporter": "python",
   "pygments_lexer": "ipython3",
   "version": "3.9.2"
  }
 },
 "nbformat": 4,
 "nbformat_minor": 5
}
